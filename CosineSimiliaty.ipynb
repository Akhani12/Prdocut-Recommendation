{
  "nbformat": 4,
  "nbformat_minor": 0,
  "metadata": {
    "kernelspec": {
      "display_name": "Python 3",
      "language": "python",
      "name": "python3"
    },
    "language_info": {
      "codemirror_mode": {
        "name": "ipython",
        "version": 3
      },
      "file_extension": ".py",
      "mimetype": "text/x-python",
      "name": "python",
      "nbconvert_exporter": "python",
      "pygments_lexer": "ipython3",
      "version": "3.7.3"
    },
    "colab": {
      "name": "CosineSimiliaty.ipynb",
      "provenance": [],
      "collapsed_sections": [],
      "include_colab_link": true
    },
    "accelerator": "TPU"
  },
  "cells": [
    {
      "cell_type": "markdown",
      "metadata": {
        "id": "view-in-github",
        "colab_type": "text"
      },
      "source": [
        "<a href=\"https://colab.research.google.com/github/ThakkarHarsh/Prdocut-Recommendation/blob/main/CosineSimiliaty.ipynb\" target=\"_parent\"><img src=\"https://colab.research.google.com/assets/colab-badge.svg\" alt=\"Open In Colab\"/></a>"
      ]
    },
    {
      "cell_type": "code",
      "metadata": {
        "id": "Qe0JISBmYvFj"
      },
      "source": [
        "import pandas as pd\n",
        "import numpy as np\n",
        "from sklearn.metrics.pairwise import cosine_similarity\n",
        "from sklearn.feature_extraction.text import CountVectorizer"
      ],
      "execution_count": null,
      "outputs": []
    },
    {
      "cell_type": "code",
      "metadata": {
        "id": "sekSLAIDJSSJ",
        "colab": {
          "base_uri": "https://localhost:8080/",
          "height": 359
        },
        "outputId": "f5b23572-3cb3-42ec-a3df-41e13aa09f5c"
      },
      "source": [
        "pd.set_option('display.max_columns', 100)\n",
        "df = pd.read_csv('/content/drive/My Drive/data.csv')\n",
        "df.head()"
      ],
      "execution_count": null,
      "outputs": [
        {
          "output_type": "stream",
          "text": [
            "/usr/local/lib/python3.6/dist-packages/IPython/core/interactiveshell.py:2718: DtypeWarning: Columns (9) have mixed types.Specify dtype option on import or set low_memory=False.\n",
            "  interactivity=interactivity, compiler=compiler, result=result)\n"
          ],
          "name": "stderr"
        },
        {
          "output_type": "execute_result",
          "data": {
            "text/html": [
              "<div>\n",
              "<style scoped>\n",
              "    .dataframe tbody tr th:only-of-type {\n",
              "        vertical-align: middle;\n",
              "    }\n",
              "\n",
              "    .dataframe tbody tr th {\n",
              "        vertical-align: top;\n",
              "    }\n",
              "\n",
              "    .dataframe thead th {\n",
              "        text-align: right;\n",
              "    }\n",
              "</style>\n",
              "<table border=\"1\" class=\"dataframe\">\n",
              "  <thead>\n",
              "    <tr style=\"text-align: right;\">\n",
              "      <th></th>\n",
              "      <th>Unnamed: 0</th>\n",
              "      <th>item_id</th>\n",
              "      <th>waist</th>\n",
              "      <th>size</th>\n",
              "      <th>quality</th>\n",
              "      <th>cup size</th>\n",
              "      <th>hips</th>\n",
              "      <th>bra size</th>\n",
              "      <th>category</th>\n",
              "      <th>bust</th>\n",
              "      <th>height</th>\n",
              "      <th>user_name</th>\n",
              "      <th>length</th>\n",
              "      <th>fit</th>\n",
              "      <th>user_id</th>\n",
              "      <th>shoe size</th>\n",
              "      <th>shoe width</th>\n",
              "      <th>review_summary</th>\n",
              "      <th>review_text</th>\n",
              "    </tr>\n",
              "  </thead>\n",
              "  <tbody>\n",
              "    <tr>\n",
              "      <th>0</th>\n",
              "      <td>0</td>\n",
              "      <td>123373</td>\n",
              "      <td>29.0</td>\n",
              "      <td>7</td>\n",
              "      <td>5.0</td>\n",
              "      <td>d</td>\n",
              "      <td>38.0</td>\n",
              "      <td>34.0</td>\n",
              "      <td>new</td>\n",
              "      <td>36</td>\n",
              "      <td>5ft 6in</td>\n",
              "      <td>Emily</td>\n",
              "      <td>just right</td>\n",
              "      <td>small</td>\n",
              "      <td>991571</td>\n",
              "      <td>NaN</td>\n",
              "      <td>NaN</td>\n",
              "      <td>NaN</td>\n",
              "      <td>NaN</td>\n",
              "    </tr>\n",
              "    <tr>\n",
              "      <th>1</th>\n",
              "      <td>1</td>\n",
              "      <td>123373</td>\n",
              "      <td>31.0</td>\n",
              "      <td>13</td>\n",
              "      <td>3.0</td>\n",
              "      <td>b</td>\n",
              "      <td>30.0</td>\n",
              "      <td>36.0</td>\n",
              "      <td>new</td>\n",
              "      <td>NaN</td>\n",
              "      <td>5ft 2in</td>\n",
              "      <td>sydneybraden2001</td>\n",
              "      <td>just right</td>\n",
              "      <td>small</td>\n",
              "      <td>587883</td>\n",
              "      <td>NaN</td>\n",
              "      <td>NaN</td>\n",
              "      <td>NaN</td>\n",
              "      <td>NaN</td>\n",
              "    </tr>\n",
              "    <tr>\n",
              "      <th>2</th>\n",
              "      <td>2</td>\n",
              "      <td>123373</td>\n",
              "      <td>30.0</td>\n",
              "      <td>7</td>\n",
              "      <td>2.0</td>\n",
              "      <td>b</td>\n",
              "      <td>NaN</td>\n",
              "      <td>32.0</td>\n",
              "      <td>new</td>\n",
              "      <td>NaN</td>\n",
              "      <td>5ft 7in</td>\n",
              "      <td>Ugggh</td>\n",
              "      <td>slightly long</td>\n",
              "      <td>small</td>\n",
              "      <td>395665</td>\n",
              "      <td>9.0</td>\n",
              "      <td>NaN</td>\n",
              "      <td>NaN</td>\n",
              "      <td>NaN</td>\n",
              "    </tr>\n",
              "    <tr>\n",
              "      <th>3</th>\n",
              "      <td>3</td>\n",
              "      <td>123373</td>\n",
              "      <td>NaN</td>\n",
              "      <td>21</td>\n",
              "      <td>5.0</td>\n",
              "      <td>dd/e</td>\n",
              "      <td>NaN</td>\n",
              "      <td>NaN</td>\n",
              "      <td>new</td>\n",
              "      <td>NaN</td>\n",
              "      <td>NaN</td>\n",
              "      <td>alexmeyer626</td>\n",
              "      <td>just right</td>\n",
              "      <td>fit</td>\n",
              "      <td>875643</td>\n",
              "      <td>NaN</td>\n",
              "      <td>NaN</td>\n",
              "      <td>NaN</td>\n",
              "      <td>NaN</td>\n",
              "    </tr>\n",
              "    <tr>\n",
              "      <th>4</th>\n",
              "      <td>4</td>\n",
              "      <td>123373</td>\n",
              "      <td>NaN</td>\n",
              "      <td>18</td>\n",
              "      <td>5.0</td>\n",
              "      <td>b</td>\n",
              "      <td>NaN</td>\n",
              "      <td>36.0</td>\n",
              "      <td>new</td>\n",
              "      <td>NaN</td>\n",
              "      <td>5ft 2in</td>\n",
              "      <td>dberrones1</td>\n",
              "      <td>slightly long</td>\n",
              "      <td>small</td>\n",
              "      <td>944840</td>\n",
              "      <td>NaN</td>\n",
              "      <td>NaN</td>\n",
              "      <td>NaN</td>\n",
              "      <td>NaN</td>\n",
              "    </tr>\n",
              "  </tbody>\n",
              "</table>\n",
              "</div>"
            ],
            "text/plain": [
              "   Unnamed: 0  item_id  waist  size  quality cup size  hips  bra size  \\\n",
              "0           0   123373   29.0     7      5.0        d  38.0      34.0   \n",
              "1           1   123373   31.0    13      3.0        b  30.0      36.0   \n",
              "2           2   123373   30.0     7      2.0        b   NaN      32.0   \n",
              "3           3   123373    NaN    21      5.0     dd/e   NaN       NaN   \n",
              "4           4   123373    NaN    18      5.0        b   NaN      36.0   \n",
              "\n",
              "  category bust   height         user_name         length    fit  user_id  \\\n",
              "0      new   36  5ft 6in             Emily     just right  small   991571   \n",
              "1      new  NaN  5ft 2in  sydneybraden2001     just right  small   587883   \n",
              "2      new  NaN  5ft 7in             Ugggh  slightly long  small   395665   \n",
              "3      new  NaN      NaN      alexmeyer626     just right    fit   875643   \n",
              "4      new  NaN  5ft 2in        dberrones1  slightly long  small   944840   \n",
              "\n",
              "   shoe size shoe width review_summary review_text  \n",
              "0        NaN        NaN            NaN         NaN  \n",
              "1        NaN        NaN            NaN         NaN  \n",
              "2        9.0        NaN            NaN         NaN  \n",
              "3        NaN        NaN            NaN         NaN  \n",
              "4        NaN        NaN            NaN         NaN  "
            ]
          },
          "metadata": {
            "tags": []
          },
          "execution_count": 4
        }
      ]
    },
    {
      "cell_type": "code",
      "metadata": {
        "id": "wSMXDkFfXM6Q",
        "colab": {
          "base_uri": "https://localhost:8080/",
          "height": 201
        },
        "outputId": "87599764-78a8-4891-a346-8831f765e39c"
      },
      "source": [
        "df = df[['item_id','waist','fit','size']]\n",
        "df.head()"
      ],
      "execution_count": null,
      "outputs": [
        {
          "output_type": "execute_result",
          "data": {
            "text/html": [
              "<div>\n",
              "<style scoped>\n",
              "    .dataframe tbody tr th:only-of-type {\n",
              "        vertical-align: middle;\n",
              "    }\n",
              "\n",
              "    .dataframe tbody tr th {\n",
              "        vertical-align: top;\n",
              "    }\n",
              "\n",
              "    .dataframe thead th {\n",
              "        text-align: right;\n",
              "    }\n",
              "</style>\n",
              "<table border=\"1\" class=\"dataframe\">\n",
              "  <thead>\n",
              "    <tr style=\"text-align: right;\">\n",
              "      <th></th>\n",
              "      <th>item_id</th>\n",
              "      <th>waist</th>\n",
              "      <th>fit</th>\n",
              "      <th>size</th>\n",
              "    </tr>\n",
              "  </thead>\n",
              "  <tbody>\n",
              "    <tr>\n",
              "      <th>0</th>\n",
              "      <td>123373</td>\n",
              "      <td>29.0</td>\n",
              "      <td>small</td>\n",
              "      <td>7</td>\n",
              "    </tr>\n",
              "    <tr>\n",
              "      <th>1</th>\n",
              "      <td>123373</td>\n",
              "      <td>31.0</td>\n",
              "      <td>small</td>\n",
              "      <td>13</td>\n",
              "    </tr>\n",
              "    <tr>\n",
              "      <th>2</th>\n",
              "      <td>123373</td>\n",
              "      <td>30.0</td>\n",
              "      <td>small</td>\n",
              "      <td>7</td>\n",
              "    </tr>\n",
              "    <tr>\n",
              "      <th>3</th>\n",
              "      <td>123373</td>\n",
              "      <td>NaN</td>\n",
              "      <td>fit</td>\n",
              "      <td>21</td>\n",
              "    </tr>\n",
              "    <tr>\n",
              "      <th>4</th>\n",
              "      <td>123373</td>\n",
              "      <td>NaN</td>\n",
              "      <td>small</td>\n",
              "      <td>18</td>\n",
              "    </tr>\n",
              "  </tbody>\n",
              "</table>\n",
              "</div>"
            ],
            "text/plain": [
              "   item_id  waist    fit  size\n",
              "0   123373   29.0  small     7\n",
              "1   123373   31.0  small    13\n",
              "2   123373   30.0  small     7\n",
              "3   123373    NaN    fit    21\n",
              "4   123373    NaN  small    18"
            ]
          },
          "metadata": {
            "tags": []
          },
          "execution_count": 5
        }
      ]
    },
    {
      "cell_type": "code",
      "metadata": {
        "id": "F8C9rQEZxB46"
      },
      "source": [
        "df['name'] = df['waist'].map(str) + df['fit'].map(str) +  df['size'].map(str)"
      ],
      "execution_count": null,
      "outputs": []
    },
    {
      "cell_type": "code",
      "metadata": {
        "id": "Vv772AXOxkmz",
        "colab": {
          "base_uri": "https://localhost:8080/",
          "height": 221
        },
        "outputId": "65db6d42-0089-4ed9-8994-30c495d41210"
      },
      "source": [
        "df.head()"
      ],
      "execution_count": null,
      "outputs": [
        {
          "output_type": "execute_result",
          "data": {
            "text/html": [
              "<div>\n",
              "<style scoped>\n",
              "    .dataframe tbody tr th:only-of-type {\n",
              "        vertical-align: middle;\n",
              "    }\n",
              "\n",
              "    .dataframe tbody tr th {\n",
              "        vertical-align: top;\n",
              "    }\n",
              "\n",
              "    .dataframe thead th {\n",
              "        text-align: right;\n",
              "    }\n",
              "</style>\n",
              "<table border=\"1\" class=\"dataframe\">\n",
              "  <thead>\n",
              "    <tr style=\"text-align: right;\">\n",
              "      <th></th>\n",
              "      <th>item_id</th>\n",
              "      <th>waist</th>\n",
              "      <th>fit</th>\n",
              "      <th>size</th>\n",
              "      <th>name</th>\n",
              "    </tr>\n",
              "  </thead>\n",
              "  <tbody>\n",
              "    <tr>\n",
              "      <th>0</th>\n",
              "      <td>123373</td>\n",
              "      <td>29.0</td>\n",
              "      <td>small</td>\n",
              "      <td>7</td>\n",
              "      <td>29.0small7</td>\n",
              "    </tr>\n",
              "    <tr>\n",
              "      <th>1</th>\n",
              "      <td>123373</td>\n",
              "      <td>31.0</td>\n",
              "      <td>small</td>\n",
              "      <td>13</td>\n",
              "      <td>31.0small13</td>\n",
              "    </tr>\n",
              "    <tr>\n",
              "      <th>2</th>\n",
              "      <td>123373</td>\n",
              "      <td>30.0</td>\n",
              "      <td>small</td>\n",
              "      <td>7</td>\n",
              "      <td>30.0small7</td>\n",
              "    </tr>\n",
              "    <tr>\n",
              "      <th>3</th>\n",
              "      <td>123373</td>\n",
              "      <td>NaN</td>\n",
              "      <td>fit</td>\n",
              "      <td>21</td>\n",
              "      <td>nanfit21</td>\n",
              "    </tr>\n",
              "    <tr>\n",
              "      <th>4</th>\n",
              "      <td>123373</td>\n",
              "      <td>NaN</td>\n",
              "      <td>small</td>\n",
              "      <td>18</td>\n",
              "      <td>nansmall18</td>\n",
              "    </tr>\n",
              "  </tbody>\n",
              "</table>\n",
              "</div>"
            ],
            "text/plain": [
              "   item_id  waist    fit  size         name\n",
              "0   123373   29.0  small     7   29.0small7\n",
              "1   123373   31.0  small    13  31.0small13\n",
              "2   123373   30.0  small     7   30.0small7\n",
              "3   123373    NaN    fit    21     nanfit21\n",
              "4   123373    NaN  small    18   nansmall18"
            ]
          },
          "metadata": {
            "tags": []
          },
          "execution_count": 7
        }
      ]
    },
    {
      "cell_type": "code",
      "metadata": {
        "id": "P5jWpt1KXjTH"
      },
      "source": [
        "df.set_index('item_id', inplace = True)"
      ],
      "execution_count": null,
      "outputs": []
    },
    {
      "cell_type": "code",
      "metadata": {
        "id": "4Wn_SflrW6GK",
        "colab": {
          "base_uri": "https://localhost:8080/",
          "height": 120
        },
        "outputId": "d0a6cca4-8972-49b6-f479-c549d62bdf13"
      },
      "source": [
        "count = CountVectorizer()\n",
        "count_matrix = count.fit_transform(df['name'])\n",
        "indices = pd.Series(df.index)\n",
        "indices[:5]"
      ],
      "execution_count": null,
      "outputs": [
        {
          "output_type": "execute_result",
          "data": {
            "text/plain": [
              "0    123373\n",
              "1    123373\n",
              "2    123373\n",
              "3    123373\n",
              "4    123373\n",
              "Name: item_id, dtype: int64"
            ]
          },
          "metadata": {
            "tags": []
          },
          "execution_count": 9
        }
      ]
    },
    {
      "cell_type": "code",
      "metadata": {
        "id": "BBNZ9MbsW9fh"
      },
      "source": [
        "cosine_sim = cosine_similarity(count_matrix, count_matrix)\n",
        "cosine_sim"
      ],
      "execution_count": null,
      "outputs": []
    },
    {
      "cell_type": "code",
      "metadata": {
        "id": "8NQdFX420NTG",
        "colab": {
          "base_uri": "https://localhost:8080/",
          "height": 34
        },
        "outputId": "cf368b66-bc7f-4e8d-8e31-f4a8b1c8c65c"
      },
      "source": [
        "len(df)"
      ],
      "execution_count": null,
      "outputs": [
        {
          "output_type": "execute_result",
          "data": {
            "text/plain": [
              "82790"
            ]
          },
          "metadata": {
            "tags": []
          },
          "execution_count": 10
        }
      ]
    },
    {
      "cell_type": "code",
      "metadata": {
        "id": "bS0VENREXAq_"
      },
      "source": [
        "# function that takes in movie title as input and returns the top 10 recommended movies\n",
        "def recommendations(title, cosine_sim = cosine_sim):\n",
        "    \n",
        "    recommended_movies = []\n",
        "    \n",
        "    # gettin the index of the movie that matches the title\n",
        "    idx = indices[indices == title].index[0]\n",
        " \n",
        "    # creating a Series with the similarity scores in descending order\n",
        "    score_series = pd.Series(cosine_sim[idx]).sort_values(ascending = False)\n",
        " \n",
        "    # getting the indexes of the 10 most similar movies\n",
        "    top_10_indexes = list(score_series.iloc[1:11].index)\n",
        "    \n",
        "    # populating the list with the titles of the best 10 matching movies\n",
        "    for i in top_10_indexes:\n",
        "        recommended_movies.append(list(df.index)[i])\n",
        "        \n",
        "    return recommended_movies"
      ],
      "execution_count": null,
      "outputs": []
    },
    {
      "cell_type": "code",
      "metadata": {
        "id": "oHm-BcopXDcp"
      },
      "source": [
        "recommendations(title=\"alexmeyer626\")"
      ],
      "execution_count": null,
      "outputs": []
    }
  ]
}